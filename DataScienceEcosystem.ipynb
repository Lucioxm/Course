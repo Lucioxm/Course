{
 "cells": [
  {
   "cell_type": "markdown",
   "id": "d8e16ef3",
   "metadata": {},
   "source": [
    "# Data Science Tools and Ecosystem"
   ]
  },
  {
   "cell_type": "markdown",
   "id": "8a5d1f25",
   "metadata": {},
   "source": [
    " In this notebook, Data Science Tools and Ecosystem are summarized."
   ]
  },
  {
   "cell_type": "markdown",
   "id": "4f9b3767",
   "metadata": {},
   "source": [
    "Some of the popular languages that Data Scientists use are:"
   ]
  },
  {
   "cell_type": "markdown",
   "id": "9da45c9b",
   "metadata": {},
   "source": [
    "1. python\n",
    "1. java\n",
    "1. R\n",
    "1. SQL\n"
   ]
  },
  {
   "cell_type": "markdown",
   "id": "dd818684",
   "metadata": {},
   "source": [
    "Some of the commonly used libraries used by Data Scientists include:\n"
   ]
  },
  {
   "cell_type": "markdown",
   "id": "db871764",
   "metadata": {},
   "source": [
    "1. Pandas\n",
    "1. Keras\n",
    "1. Pytorch\n",
    "1. NumPy\n"
   ]
  },
  {
   "cell_type": "markdown",
   "id": "76b0f621",
   "metadata": {},
   "source": [
    "|Data| Science| Tools|\n",
    "|------------------|-------------|-----|\n",
    "|jupyter nootebook|Rstudio|VSCode|"
   ]
  },
  {
   "cell_type": "markdown",
   "id": "c7e460af",
   "metadata": {},
   "source": [
    "Objectives: the covered objetives where\n",
    "- some languaje\n",
    "    * python\n",
    "- Tables\n",
    "    - like the one above\n",
    "- mathematics\n",
    "    - Arithmetic"
   ]
  },
  {
   "cell_type": "markdown",
   "id": "25216309",
   "metadata": {},
   "source": [
    "### Below are a few examples of evaluating arithmetic expressions in Python"
   ]
  },
  {
   "cell_type": "markdown",
   "id": "86654c60",
   "metadata": {},
   "source": [
    "This a simple arithmetic expression to mutiply then add integers\n"
   ]
  },
  {
   "cell_type": "code",
   "execution_count": 10,
   "id": "339c0d11",
   "metadata": {},
   "outputs": [
    {
     "data": {
      "text/plain": [
       "17"
      ]
     },
     "execution_count": 10,
     "metadata": {},
     "output_type": "execute_result"
    }
   ],
   "source": [
    "(3*4)+5"
   ]
  },
  {
   "cell_type": "markdown",
   "id": "a2084371",
   "metadata": {},
   "source": [
    " This will convert 200 minutes to hours by diving by 60"
   ]
  },
  {
   "cell_type": "code",
   "execution_count": 11,
   "id": "81169e87",
   "metadata": {},
   "outputs": [
    {
     "data": {
      "text/plain": [
       "3"
      ]
     },
     "execution_count": 11,
     "metadata": {},
     "output_type": "execute_result"
    }
   ],
   "source": [
    "200//60"
   ]
  },
  {
   "cell_type": "markdown",
   "id": "13988d12",
   "metadata": {},
   "source": [
    "## Author\n",
    "Luciano Soliz"
   ]
  },
  {
   "cell_type": "code",
   "execution_count": null,
   "id": "4ecee858",
   "metadata": {},
   "outputs": [],
   "source": []
  }
 ],
 "metadata": {
  "kernelspec": {
   "display_name": "Python 3 (ipykernel)",
   "language": "python",
   "name": "python3"
  },
  "language_info": {
   "codemirror_mode": {
    "name": "ipython",
    "version": 3
   },
   "file_extension": ".py",
   "mimetype": "text/x-python",
   "name": "python",
   "nbconvert_exporter": "python",
   "pygments_lexer": "ipython3",
   "version": "3.11.5"
  }
 },
 "nbformat": 4,
 "nbformat_minor": 5
}
